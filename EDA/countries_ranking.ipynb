{
 "cells": [
  {
   "cell_type": "code",
   "execution_count": 56,
   "metadata": {},
   "outputs": [],
   "source": [
    "import pandas as pd\n",
    "from pathlib import Path\n",
    "%matplotlib inline"
   ]
  },
  {
   "cell_type": "code",
   "execution_count": 41,
   "metadata": {},
   "outputs": [],
   "source": [
    "path = \"../data/Food_Supply_kcal_Data.csv\"\n",
    "df = pd.read_csv(path)"
   ]
  },
  {
   "cell_type": "code",
   "execution_count": 42,
   "metadata": {},
   "outputs": [
    {
     "data": {
      "text/html": [
       "<div>\n",
       "<style scoped>\n",
       "    .dataframe tbody tr th:only-of-type {\n",
       "        vertical-align: middle;\n",
       "    }\n",
       "\n",
       "    .dataframe tbody tr th {\n",
       "        vertical-align: top;\n",
       "    }\n",
       "\n",
       "    .dataframe thead th {\n",
       "        text-align: right;\n",
       "    }\n",
       "</style>\n",
       "<table border=\"1\" class=\"dataframe\">\n",
       "  <thead>\n",
       "    <tr style=\"text-align: right;\">\n",
       "      <th></th>\n",
       "      <th>Country</th>\n",
       "      <th>Alcoholic Beverages</th>\n",
       "      <th>Animal Products</th>\n",
       "      <th>Animal fats</th>\n",
       "      <th>Aquatic Products, Other</th>\n",
       "      <th>Cereals - Excluding Beer</th>\n",
       "      <th>Eggs</th>\n",
       "      <th>Fish, Seafood</th>\n",
       "      <th>Fruits - Excluding Wine</th>\n",
       "      <th>Meat</th>\n",
       "      <th>...</th>\n",
       "      <th>Vegetable Oils</th>\n",
       "      <th>Vegetables</th>\n",
       "      <th>Obesity</th>\n",
       "      <th>Undernourished</th>\n",
       "      <th>Confirmed</th>\n",
       "      <th>Deaths</th>\n",
       "      <th>Recovered</th>\n",
       "      <th>Active</th>\n",
       "      <th>Population</th>\n",
       "      <th>Unit (all except Population)</th>\n",
       "    </tr>\n",
       "  </thead>\n",
       "  <tbody>\n",
       "    <tr>\n",
       "      <td>0</td>\n",
       "      <td>Afghanistan</td>\n",
       "      <td>0.0000</td>\n",
       "      <td>4.7774</td>\n",
       "      <td>0.8504</td>\n",
       "      <td>0.0</td>\n",
       "      <td>37.1186</td>\n",
       "      <td>0.1501</td>\n",
       "      <td>0.0000</td>\n",
       "      <td>1.4757</td>\n",
       "      <td>1.2006</td>\n",
       "      <td>...</td>\n",
       "      <td>2.3012</td>\n",
       "      <td>0.7504</td>\n",
       "      <td>4.5</td>\n",
       "      <td>29.8</td>\n",
       "      <td>0.053472</td>\n",
       "      <td>0.000938</td>\n",
       "      <td>0.004929</td>\n",
       "      <td>0.047605</td>\n",
       "      <td>38042000.0</td>\n",
       "      <td>%</td>\n",
       "    </tr>\n",
       "    <tr>\n",
       "      <td>1</td>\n",
       "      <td>Albania</td>\n",
       "      <td>0.9120</td>\n",
       "      <td>16.0930</td>\n",
       "      <td>1.0591</td>\n",
       "      <td>0.0</td>\n",
       "      <td>16.2107</td>\n",
       "      <td>0.8091</td>\n",
       "      <td>0.1471</td>\n",
       "      <td>3.8982</td>\n",
       "      <td>3.8688</td>\n",
       "      <td>...</td>\n",
       "      <td>2.8244</td>\n",
       "      <td>2.7508</td>\n",
       "      <td>22.3</td>\n",
       "      <td>6.2</td>\n",
       "      <td>0.043597</td>\n",
       "      <td>0.001190</td>\n",
       "      <td>0.032820</td>\n",
       "      <td>0.009587</td>\n",
       "      <td>2858000.0</td>\n",
       "      <td>%</td>\n",
       "    </tr>\n",
       "    <tr>\n",
       "      <td>2</td>\n",
       "      <td>Algeria</td>\n",
       "      <td>0.0896</td>\n",
       "      <td>6.0326</td>\n",
       "      <td>0.1941</td>\n",
       "      <td>0.0</td>\n",
       "      <td>25.0112</td>\n",
       "      <td>0.4181</td>\n",
       "      <td>0.1195</td>\n",
       "      <td>3.1805</td>\n",
       "      <td>1.2543</td>\n",
       "      <td>...</td>\n",
       "      <td>5.7638</td>\n",
       "      <td>2.0457</td>\n",
       "      <td>26.6</td>\n",
       "      <td>3.9</td>\n",
       "      <td>0.023393</td>\n",
       "      <td>0.001629</td>\n",
       "      <td>0.015475</td>\n",
       "      <td>0.006289</td>\n",
       "      <td>43406000.0</td>\n",
       "      <td>%</td>\n",
       "    </tr>\n",
       "    <tr>\n",
       "      <td>3</td>\n",
       "      <td>Angola</td>\n",
       "      <td>1.9388</td>\n",
       "      <td>4.6927</td>\n",
       "      <td>0.2644</td>\n",
       "      <td>0.0</td>\n",
       "      <td>18.3521</td>\n",
       "      <td>0.0441</td>\n",
       "      <td>0.8372</td>\n",
       "      <td>2.3133</td>\n",
       "      <td>2.9302</td>\n",
       "      <td>...</td>\n",
       "      <td>4.2741</td>\n",
       "      <td>0.3525</td>\n",
       "      <td>6.8</td>\n",
       "      <td>25</td>\n",
       "      <td>0.000290</td>\n",
       "      <td>0.000013</td>\n",
       "      <td>0.000076</td>\n",
       "      <td>0.000200</td>\n",
       "      <td>31427000.0</td>\n",
       "      <td>%</td>\n",
       "    </tr>\n",
       "    <tr>\n",
       "      <td>4</td>\n",
       "      <td>Antigua and Barbuda</td>\n",
       "      <td>2.3041</td>\n",
       "      <td>15.3672</td>\n",
       "      <td>1.5429</td>\n",
       "      <td>0.0</td>\n",
       "      <td>13.7215</td>\n",
       "      <td>0.2057</td>\n",
       "      <td>1.7280</td>\n",
       "      <td>3.6824</td>\n",
       "      <td>7.0356</td>\n",
       "      <td>...</td>\n",
       "      <td>4.6904</td>\n",
       "      <td>1.2960</td>\n",
       "      <td>19.1</td>\n",
       "      <td>NaN</td>\n",
       "      <td>0.026804</td>\n",
       "      <td>0.003093</td>\n",
       "      <td>0.020619</td>\n",
       "      <td>0.003093</td>\n",
       "      <td>97000.0</td>\n",
       "      <td>%</td>\n",
       "    </tr>\n",
       "  </tbody>\n",
       "</table>\n",
       "<p>5 rows × 32 columns</p>\n",
       "</div>"
      ],
      "text/plain": [
       "               Country  Alcoholic Beverages  Animal Products  Animal fats  \\\n",
       "0          Afghanistan               0.0000           4.7774       0.8504   \n",
       "1              Albania               0.9120          16.0930       1.0591   \n",
       "2              Algeria               0.0896           6.0326       0.1941   \n",
       "3               Angola               1.9388           4.6927       0.2644   \n",
       "4  Antigua and Barbuda               2.3041          15.3672       1.5429   \n",
       "\n",
       "   Aquatic Products, Other  Cereals - Excluding Beer    Eggs  Fish, Seafood  \\\n",
       "0                      0.0                   37.1186  0.1501         0.0000   \n",
       "1                      0.0                   16.2107  0.8091         0.1471   \n",
       "2                      0.0                   25.0112  0.4181         0.1195   \n",
       "3                      0.0                   18.3521  0.0441         0.8372   \n",
       "4                      0.0                   13.7215  0.2057         1.7280   \n",
       "\n",
       "   Fruits - Excluding Wine    Meat  ...  Vegetable Oils  Vegetables  Obesity  \\\n",
       "0                   1.4757  1.2006  ...          2.3012      0.7504      4.5   \n",
       "1                   3.8982  3.8688  ...          2.8244      2.7508     22.3   \n",
       "2                   3.1805  1.2543  ...          5.7638      2.0457     26.6   \n",
       "3                   2.3133  2.9302  ...          4.2741      0.3525      6.8   \n",
       "4                   3.6824  7.0356  ...          4.6904      1.2960     19.1   \n",
       "\n",
       "   Undernourished  Confirmed    Deaths  Recovered    Active  Population  \\\n",
       "0            29.8   0.053472  0.000938   0.004929  0.047605  38042000.0   \n",
       "1             6.2   0.043597  0.001190   0.032820  0.009587   2858000.0   \n",
       "2             3.9   0.023393  0.001629   0.015475  0.006289  43406000.0   \n",
       "3              25   0.000290  0.000013   0.000076  0.000200  31427000.0   \n",
       "4             NaN   0.026804  0.003093   0.020619  0.003093     97000.0   \n",
       "\n",
       "   Unit (all except Population)  \n",
       "0                             %  \n",
       "1                             %  \n",
       "2                             %  \n",
       "3                             %  \n",
       "4                             %  \n",
       "\n",
       "[5 rows x 32 columns]"
      ]
     },
     "execution_count": 42,
     "metadata": {},
     "output_type": "execute_result"
    }
   ],
   "source": [
    "df.head()"
   ]
  },
  {
   "cell_type": "code",
   "execution_count": 43,
   "metadata": {},
   "outputs": [],
   "source": [
    "df['Rec_Rate'] = df[['Confirmed', 'Active', 'Recovered']].apply(lambda x: (x['Recovered']/(x['Confirmed']-x['Active']))*100, axis=1)\n",
    "df = df.sort_values(by=['Rec_Rate'], ascending=False)"
   ]
  },
  {
   "cell_type": "code",
   "execution_count": 52,
   "metadata": {},
   "outputs": [],
   "source": [
    "df['Total Confirmed'] = df[['Confirmed', 'Population']].apply(lambda row: (row['Confirmed']/100)*row['Population'], axis=1)\n"
   ]
  },
  {
   "cell_type": "code",
   "execution_count": 54,
   "metadata": {},
   "outputs": [
    {
     "data": {
      "text/plain": [
       "133                  Saudi Arabia\n",
       "29                          Chile\n",
       "126            Russian Federation\n",
       "154                        Turkey\n",
       "56                        Germany\n",
       "68                          India\n",
       "70     Iran (Islamic Republic of)\n",
       "120                          Peru\n",
       "20                         Brazil\n",
       "100                        Mexico\n",
       "Name: Country, dtype: object"
      ]
     },
     "execution_count": 54,
     "metadata": {},
     "output_type": "execute_result"
    }
   ],
   "source": [
    "#top ranked countries with highest recovery rate with cases more than  \n",
    "df['Country'].loc[df['Total Confirmed']>= 100000].head(10)"
   ]
  },
  {
   "cell_type": "code",
   "execution_count": 68,
   "metadata": {
    "scrolled": true
   },
   "outputs": [
    {
     "data": {
      "text/plain": [
       "<matplotlib.axes._subplots.AxesSubplot at 0x7fecb88de890>"
      ]
     },
     "execution_count": 68,
     "metadata": {},
     "output_type": "execute_result"
    },
    {
     "data": {
      "image/png": "[encoded data removed]",
      "text/plain": [
       "<Figure size 360x360 with 1 Axes>"
      ]
     },
     "metadata": {},
     "output_type": "display_data"
    }
   ],
   "source": [
    "df[['Country', 'Rec_Rate']].loc[df['Total Confirmed']>= 100000].head(10).plot.pie(y='Rec_Rate', figsize=(5, 5))"
   ]
  },
  {
   "cell_type": "code",
   "execution_count": 74,
   "metadata": {},
   "outputs": [
    {
     "data": {
      "text/html": [
       "<div>\n",
       "<style scoped>\n",
       "    .dataframe tbody tr th:only-of-type {\n",
       "        vertical-align: middle;\n",
       "    }\n",
       "\n",
       "    .dataframe tbody tr th {\n",
       "        vertical-align: top;\n",
       "    }\n",
       "\n",
       "    .dataframe thead th {\n",
       "        text-align: right;\n",
       "    }\n",
       "</style>\n",
       "<table border=\"1\" class=\"dataframe\">\n",
       "  <thead>\n",
       "    <tr style=\"text-align: right;\">\n",
       "      <th></th>\n",
       "      <th>Country</th>\n",
       "      <th>Rec_Rate</th>\n",
       "    </tr>\n",
       "  </thead>\n",
       "  <tbody>\n",
       "    <tr>\n",
       "      <td>133</td>\n",
       "      <td>Saudi Arabia</td>\n",
       "      <td>99.031675</td>\n",
       "    </tr>\n",
       "    <tr>\n",
       "      <td>29</td>\n",
       "      <td>Chile</td>\n",
       "      <td>98.508931</td>\n",
       "    </tr>\n",
       "    <tr>\n",
       "      <td>126</td>\n",
       "      <td>Russian Federation</td>\n",
       "      <td>97.479354</td>\n",
       "    </tr>\n",
       "    <tr>\n",
       "      <td>154</td>\n",
       "      <td>Turkey</td>\n",
       "      <td>96.711084</td>\n",
       "    </tr>\n",
       "  </tbody>\n",
       "</table>\n",
       "</div>"
      ],
      "text/plain": [
       "                Country   Rec_Rate\n",
       "133        Saudi Arabia  99.031675\n",
       "29                Chile  98.508931\n",
       "126  Russian Federation  97.479354\n",
       "154              Turkey  96.711084"
      ]
     },
     "execution_count": 74,
     "metadata": {},
     "output_type": "execute_result"
    }
   ],
   "source": [
    "df[['Country', 'Rec_Rate']].loc[df['Total Confirmed']>= 100000].head(4)"
   ]
  },
  {
   "cell_type": "code",
   "execution_count": 87,
   "metadata": {},
   "outputs": [
    {
     "data": {
      "text/plain": [
       "<matplotlib.axes._subplots.AxesSubplot at 0x7fecb84ac950>"
      ]
     },
     "execution_count": 87,
     "metadata": {},
     "output_type": "execute_result"
    },
    {
     "data": {
      "image/png": "[encoded data removed]",
      "text/plain": [
       "<Figure size 432x288 with 1 Axes>"
      ]
     },
     "metadata": {
      "needs_background": "light"
     },
     "output_type": "display_data"
    }
   ],
   "source": [
    "df[['Country', 'Rec_Rate']].loc[df['Total Confirmed']>= 100000].head(4).plot.bar(x='Country', y='Rec_Rate', color = ['r', 'g', 'y', 'k'])"
   ]
  },
  {
   "cell_type": "code",
   "execution_count": 88,
   "metadata": {},
   "outputs": [
    {
     "data": {
      "text/html": [
       "<div>\n",
       "<style scoped>\n",
       "    .dataframe tbody tr th:only-of-type {\n",
       "        vertical-align: middle;\n",
       "    }\n",
       "\n",
       "    .dataframe tbody tr th {\n",
       "        vertical-align: top;\n",
       "    }\n",
       "\n",
       "    .dataframe thead th {\n",
       "        text-align: right;\n",
       "    }\n",
       "</style>\n",
       "<table border=\"1\" class=\"dataframe\">\n",
       "  <thead>\n",
       "    <tr style=\"text-align: right;\">\n",
       "      <th></th>\n",
       "      <th>Country</th>\n",
       "      <th>Rec_Rate</th>\n",
       "    </tr>\n",
       "  </thead>\n",
       "  <tbody>\n",
       "    <tr>\n",
       "      <td>74</td>\n",
       "      <td>Italy</td>\n",
       "      <td>83.028097</td>\n",
       "    </tr>\n",
       "    <tr>\n",
       "      <td>161</td>\n",
       "      <td>United States of America</td>\n",
       "      <td>79.948813</td>\n",
       "    </tr>\n",
       "    <tr>\n",
       "      <td>51</td>\n",
       "      <td>France</td>\n",
       "      <td>70.876657</td>\n",
       "    </tr>\n",
       "    <tr>\n",
       "      <td>159</td>\n",
       "      <td>United Kingdom</td>\n",
       "      <td>2.959583</td>\n",
       "    </tr>\n",
       "  </tbody>\n",
       "</table>\n",
       "</div>"
      ],
      "text/plain": [
       "                      Country   Rec_Rate\n",
       "74                      Italy  83.028097\n",
       "161  United States of America  79.948813\n",
       "51                     France  70.876657\n",
       "159            United Kingdom   2.959583"
      ]
     },
     "execution_count": 88,
     "metadata": {},
     "output_type": "execute_result"
    }
   ],
   "source": [
    "df[['Country', 'Rec_Rate']].loc[df['Total Confirmed']>= 100000].tail(4)"
   ]
  },
  {
   "cell_type": "code",
   "execution_count": 90,
   "metadata": {},
   "outputs": [
    {
     "data": {
      "text/plain": [
       "<matplotlib.axes._subplots.AxesSubplot at 0x7fecb838e150>"
      ]
     },
     "execution_count": 90,
     "metadata": {},
     "output_type": "execute_result"
    },
    {
     "data": {
      "image/png": "[encoded data removed]",
      "text/plain": [
       "<Figure size 432x288 with 1 Axes>"
      ]
     },
     "metadata": {
      "needs_background": "light"
     },
     "output_type": "display_data"
    }
   ],
   "source": [
    "df[['Country', 'Rec_Rate']].loc[df['Total Confirmed']>= 100000].tail(4).plot.bar(x='Country', y='Rec_Rate', color = ['b', 'k', 'g', 'r'])"
   ]
  }
 ],
 "metadata": {
  "kernelspec": {
   "display_name": "Python 3",
   "language": "python",
   "name": "python3"
  },
  "language_info": {
   "codemirror_mode": {
    "name": "ipython",
    "version": 3
   },
   "file_extension": ".py",
   "mimetype": "text/x-python",
   "name": "python",
   "nbconvert_exporter": "python",
   "pygments_lexer": "ipython3",
   "version": "3.7.4"
  }
 },
 "nbformat": 4,
 "nbformat_minor": 2
}
